{
  "cells": [
    {
      "cell_type": "markdown",
      "metadata": {
        "id": "Gf5l7mCP1FDQ"
      },
      "source": [
        "# Regiment"
      ]
    },
    {
      "cell_type": "markdown",
      "metadata": {
        "id": "kHBWWspv1FDW"
      },
      "source": [
        "### Introduction:\n",
        "\n",
        "Special thanks to: http://chrisalbon.com/ for sharing the dataset and materials.\n",
        "\n",
        "### Step 1. Import the necessary libraries"
      ]
    },
    {
      "cell_type": "code",
      "execution_count": 1,
      "metadata": {
        "id": "zmta4WdF1FDX",
        "outputId": "1a0411ce-f2e7-4bb6-a604-f4cc30a092cf",
        "colab": {
          "base_uri": "https://localhost:8080/",
          "height": 742
        }
      },
      "outputs": [
        {
          "output_type": "stream",
          "name": "stdout",
          "text": [
            "Get:1 https://developer.download.nvidia.com/compute/cuda/repos/ubuntu2204/x86_64  InRelease [1,581 B]\n",
            "Hit:2 http://archive.ubuntu.com/ubuntu jammy InRelease\n",
            "Get:3 https://cloud.r-project.org/bin/linux/ubuntu jammy-cran40/ InRelease [3,632 B]\n",
            "Get:4 http://archive.ubuntu.com/ubuntu jammy-updates InRelease [128 kB]\n",
            "Get:5 http://security.ubuntu.com/ubuntu jammy-security InRelease [129 kB]\n",
            "Get:6 https://r2u.stat.illinois.edu/ubuntu jammy InRelease [6,555 B]\n",
            "Get:7 https://developer.download.nvidia.com/compute/cuda/repos/ubuntu2204/x86_64  Packages [1,317 kB]\n",
            "Get:8 http://archive.ubuntu.com/ubuntu jammy-backports InRelease [127 kB]\n",
            "Hit:9 https://ppa.launchpadcontent.net/deadsnakes/ppa/ubuntu jammy InRelease\n",
            "Hit:10 https://ppa.launchpadcontent.net/graphics-drivers/ppa/ubuntu jammy InRelease\n",
            "Hit:11 https://ppa.launchpadcontent.net/ubuntugis/ppa/ubuntu jammy InRelease\n",
            "Get:12 https://r2u.stat.illinois.edu/ubuntu jammy/main all Packages [8,687 kB]\n",
            "Get:13 http://archive.ubuntu.com/ubuntu jammy-updates/main amd64 Packages [2,939 kB]\n",
            "Get:14 https://r2u.stat.illinois.edu/ubuntu jammy/main amd64 Packages [2,660 kB]\n",
            "Get:15 http://archive.ubuntu.com/ubuntu jammy-updates/restricted amd64 Packages [3,793 kB]\n",
            "Get:16 http://archive.ubuntu.com/ubuntu jammy-updates/universe amd64 Packages [1,526 kB]\n",
            "Get:17 http://security.ubuntu.com/ubuntu jammy-security/main amd64 Packages [2,610 kB]\n",
            "Get:18 http://security.ubuntu.com/ubuntu jammy-security/universe amd64 Packages [1,230 kB]\n",
            "Fetched 25.2 MB in 6s (4,162 kB/s)\n",
            "Reading package lists... Done\n",
            "Building dependency tree... Done\n",
            "Reading state information... Done\n",
            "26 packages can be upgraded. Run 'apt list --upgradable' to see them.\n",
            "\u001b[1;33mW: \u001b[0mSkipping acquire of configured file 'main/source/Sources' as repository 'https://r2u.stat.illinois.edu/ubuntu jammy InRelease' does not seem to provide it (sources.list entry misspelt?)\u001b[0m\n",
            "tar: spark-3.2.1-bin-hadoop3.2.tgz: Cannot open: No such file or directory\n",
            "tar: Error is not recoverable: exiting now\n",
            "Requirement already satisfied: pyspark in /usr/local/lib/python3.11/dist-packages (3.5.4)\n",
            "Requirement already satisfied: py4j==0.10.9.7 in /usr/local/lib/python3.11/dist-packages (from pyspark) (0.10.9.7)\n",
            "Requirement already satisfied: py4j in /usr/local/lib/python3.11/dist-packages (0.10.9.7)\n"
          ]
        },
        {
          "output_type": "execute_result",
          "data": {
            "text/plain": [
              "<pyspark.sql.session.SparkSession at 0x7b7fdd2bd350>"
            ],
            "text/html": [
              "\n",
              "            <div>\n",
              "                <p><b>SparkSession - in-memory</b></p>\n",
              "                \n",
              "        <div>\n",
              "            <p><b>SparkContext</b></p>\n",
              "\n",
              "            <p><a href=\"http://199d72ac9a14:4040\">Spark UI</a></p>\n",
              "\n",
              "            <dl>\n",
              "              <dt>Version</dt>\n",
              "                <dd><code>v3.5.4</code></dd>\n",
              "              <dt>Master</dt>\n",
              "                <dd><code>local[*]</code></dd>\n",
              "              <dt>AppName</dt>\n",
              "                <dd><code>Our First Spark Example</code></dd>\n",
              "            </dl>\n",
              "        </div>\n",
              "        \n",
              "            </div>\n",
              "        "
            ]
          },
          "metadata": {},
          "execution_count": 1
        }
      ],
      "source": [
        "!sudo apt update\n",
        "!apt-get install openjdk-8-jdk-headless -qq > /dev/null\n",
        "#Check this site for the latest download link https://www.apache.org/dyn/closer.lua/spark/spark-3.2.1/spark-3.2.1-bin-hadoop3.2.tgz\n",
        "!wget -q https://dlcdn.apache.org/spark/spark-3.2.1/spark-3.2.1-bin-hadoop3.2.tgz\n",
        "!tar xf spark-3.2.1-bin-hadoop3.2.tgz\n",
        "!pip install -q findspark\n",
        "!pip install pyspark\n",
        "!pip install py4j\n",
        "\n",
        "import os\n",
        "import sys\n",
        "# os.environ[\"JAVA_HOME\"] = \"/usr/lib/jvm/java-8-openjdk-amd64\"\n",
        "# os.environ[\"SPARK_HOME\"] = \"/content/spark-3.2.1-bin-hadoop3.2\"\n",
        "\n",
        "\n",
        "import findspark\n",
        "findspark.init()\n",
        "findspark.find()\n",
        "\n",
        "import pyspark\n",
        "\n",
        "from pyspark.sql import DataFrame, SparkSession\n",
        "from typing import List\n",
        "import pyspark.sql.types as T\n",
        "import pyspark.sql.functions as F\n",
        "\n",
        "spark= SparkSession \\\n",
        "       .builder \\\n",
        "       .appName(\"Our First Spark Example\") \\\n",
        "       .getOrCreate()\n",
        "\n",
        "spark"
      ]
    },
    {
      "cell_type": "markdown",
      "metadata": {
        "id": "ztcVdq_C1FDY"
      },
      "source": [
        "### Step 2. Create the DataFrame with the following values:"
      ]
    },
    {
      "cell_type": "code",
      "execution_count": 2,
      "metadata": {
        "collapsed": true,
        "id": "uJd5tVDX1FDZ"
      },
      "outputs": [],
      "source": [
        "raw_data = {'regiment': ['Nighthawks', 'Nighthawks', 'Nighthawks', 'Nighthawks', 'Dragoons', 'Dragoons', 'Dragoons', 'Dragoons', 'Scouts', 'Scouts', 'Scouts', 'Scouts'],\n",
        "        'company': ['1st', '1st', '2nd', '2nd', '1st', '1st', '2nd', '2nd','1st', '1st', '2nd', '2nd'],\n",
        "        'name': ['Miller', 'Jacobson', 'Ali', 'Milner', 'Cooze', 'Jacon', 'Ryaner', 'Sone', 'Sloan', 'Piger', 'Riani', 'Ali'],\n",
        "        'preTestScore': [4, 24, 31, 2, 3, 4, 24, 31, 2, 3, 2, 3],\n",
        "        'postTestScore': [25, 94, 57, 62, 70, 25, 94, 57, 62, 70, 62, 70]}"
      ]
    },
    {
      "cell_type": "markdown",
      "metadata": {
        "id": "2H12VRWi1FDb"
      },
      "source": [
        "### Step 3. Assign it to a variable called regiment.\n",
        "#### Don't forget to name each column"
      ]
    },
    {
      "cell_type": "code",
      "source": [
        "import pandas as pd\n",
        "df = pd.DataFrame(raw_data)"
      ],
      "metadata": {
        "id": "LEvvXjB71rOt"
      },
      "execution_count": 4,
      "outputs": []
    },
    {
      "cell_type": "code",
      "source": [
        "raw_data = {\n",
        "    'regiment': ['Nighthawks', 'Nighthawks', 'Nighthawks', 'Nighthawks', 'Dragoons', 'Dragoons', 'Dragoons', 'Dragoons', 'Scouts', 'Scouts', 'Scouts', 'Scouts'],\n",
        "    'company': ['1st', '1st', '2nd', '2nd', '1st', '1st', '2nd', '2nd', '1st', '1st', '2nd', '2nd'],\n",
        "    'name': ['Miller', 'Jacobson', 'Ali', 'Milner', 'Cooze', 'Jacon', 'Ryaner', 'Sone', 'Sloan', 'Piger', 'Riani', 'Ali'],\n",
        "    'preTestScore': [4, 24, 31, 2, 3, 4, 24, 31, 2, 3, 2, 3],\n",
        "    'postTestScore': [25, 94, 57, 62, 70, 25, 94, 57, 62, 70, 62, 70]\n",
        "}\n",
        "\n",
        "regiments = spark.createDataFrame(list(zip(*raw_data.values())), schema=list(raw_data.keys()))\n",
        "\n",
        "regiments.show()"
      ],
      "metadata": {
        "id": "Wp1gDFDp2Xo6",
        "outputId": "b602e01f-9cf7-4c37-bd7c-133a7380c36b",
        "colab": {
          "base_uri": "https://localhost:8080/"
        }
      },
      "execution_count": 12,
      "outputs": [
        {
          "output_type": "stream",
          "name": "stdout",
          "text": [
            "+----------+-------+--------+------------+-------------+\n",
            "|  regiment|company|    name|preTestScore|postTestScore|\n",
            "+----------+-------+--------+------------+-------------+\n",
            "|Nighthawks|    1st|  Miller|           4|           25|\n",
            "|Nighthawks|    1st|Jacobson|          24|           94|\n",
            "|Nighthawks|    2nd|     Ali|          31|           57|\n",
            "|Nighthawks|    2nd|  Milner|           2|           62|\n",
            "|  Dragoons|    1st|   Cooze|           3|           70|\n",
            "|  Dragoons|    1st|   Jacon|           4|           25|\n",
            "|  Dragoons|    2nd|  Ryaner|          24|           94|\n",
            "|  Dragoons|    2nd|    Sone|          31|           57|\n",
            "|    Scouts|    1st|   Sloan|           2|           62|\n",
            "|    Scouts|    1st|   Piger|           3|           70|\n",
            "|    Scouts|    2nd|   Riani|           2|           62|\n",
            "|    Scouts|    2nd|     Ali|           3|           70|\n",
            "+----------+-------+--------+------------+-------------+\n",
            "\n"
          ]
        }
      ]
    },
    {
      "cell_type": "markdown",
      "metadata": {
        "id": "EnjEhHKA1FDd"
      },
      "source": [
        "### Step 4. What is the mean preTestScore from the regiment Nighthawks?  "
      ]
    },
    {
      "cell_type": "code",
      "execution_count": 13,
      "metadata": {
        "id": "BVw6t2Kj1FDe",
        "outputId": "c4fd1c9b-5ed2-412b-d1e0-a4a294bdca24",
        "colab": {
          "base_uri": "https://localhost:8080/"
        }
      },
      "outputs": [
        {
          "output_type": "stream",
          "name": "stdout",
          "text": [
            "+----------+-------+------+------------+-------------+\n",
            "|  regiment|company|  name|preTestScore|postTestScore|\n",
            "+----------+-------+------+------------+-------------+\n",
            "|Nighthawks|    1st|Miller|           4|           25|\n",
            "+----------+-------+------+------------+-------------+\n",
            "only showing top 1 row\n",
            "\n"
          ]
        }
      ],
      "source": [
        "regiments.show(1)"
      ]
    },
    {
      "cell_type": "code",
      "source": [
        "regiments.groupBy('regiment').avg('preTestScore').filter(regiments.regiment == 'Nighthawks').show()"
      ],
      "metadata": {
        "id": "kAmgV3rYdxCm",
        "outputId": "acc16ab5-3330-4ba6-a4b2-0a2a8b62023b",
        "colab": {
          "base_uri": "https://localhost:8080/"
        }
      },
      "execution_count": 15,
      "outputs": [
        {
          "output_type": "stream",
          "name": "stdout",
          "text": [
            "+----------+-----------------+\n",
            "|  regiment|avg(preTestScore)|\n",
            "+----------+-----------------+\n",
            "|Nighthawks|            15.25|\n",
            "+----------+-----------------+\n",
            "\n"
          ]
        }
      ]
    },
    {
      "cell_type": "markdown",
      "metadata": {
        "id": "ojA4qsYl1FDe"
      },
      "source": [
        "### Step 5. Present general statistics by company"
      ]
    },
    {
      "cell_type": "code",
      "execution_count": 25,
      "metadata": {
        "id": "_QN8Ahw01FDf",
        "outputId": "334ed6c1-f390-4623-83fd-45314a390f2c",
        "colab": {
          "base_uri": "https://localhost:8080/"
        }
      },
      "outputs": [
        {
          "output_type": "stream",
          "name": "stdout",
          "text": [
            "+-------+-----------------+------------------+\n",
            "|company|avg(preTestScore)|avg(postTestScore)|\n",
            "+-------+-----------------+------------------+\n",
            "|    2nd|             15.5|              67.0|\n",
            "|    1st|6.666666666666667|57.666666666666664|\n",
            "+-------+-----------------+------------------+\n",
            "\n",
            "+-------+-----+\n",
            "|company|count|\n",
            "+-------+-----+\n",
            "|    2nd|    6|\n",
            "|    1st|    6|\n",
            "+-------+-----+\n",
            "\n",
            "+-------+-----------------+------------------+\n",
            "|company|sum(preTestScore)|sum(postTestScore)|\n",
            "+-------+-----------------+------------------+\n",
            "|    2nd|               93|               402|\n",
            "|    1st|               40|               346|\n",
            "+-------+-----------------+------------------+\n",
            "\n",
            "+-------+-----------------+------------------+\n",
            "|company|max(preTestScore)|max(postTestScore)|\n",
            "+-------+-----------------+------------------+\n",
            "|    2nd|               31|                94|\n",
            "|    1st|               24|                94|\n",
            "+-------+-----------------+------------------+\n",
            "\n",
            "+-------+-----------------+------------------+\n",
            "|company|min(preTestScore)|min(postTestScore)|\n",
            "+-------+-----------------+------------------+\n",
            "|    2nd|                2|                57|\n",
            "|    1st|                2|                25|\n",
            "+-------+-----------------+------------------+\n",
            "\n"
          ]
        }
      ],
      "source": [
        "regiments.groupBy('company').avg().show()\n",
        "regiments.groupBy('company').count().show()\n",
        "regiments.groupBy('company').sum().show()\n",
        "regiments.groupBy('company').max().show()\n",
        "regiments.groupBy('company').min().show()"
      ]
    },
    {
      "cell_type": "markdown",
      "metadata": {
        "id": "x5j0j6L51FDf"
      },
      "source": [
        "### Step 6. What is the mean of each company's preTestScore?"
      ]
    },
    {
      "cell_type": "code",
      "execution_count": 27,
      "metadata": {
        "id": "eNYFgPRV1FDg",
        "outputId": "e16bc13d-9fb8-4184-d699-3767466fc5dd",
        "colab": {
          "base_uri": "https://localhost:8080/"
        }
      },
      "outputs": [
        {
          "output_type": "stream",
          "name": "stdout",
          "text": [
            "+-------+-----------------+\n",
            "|company|avg(preTestScore)|\n",
            "+-------+-----------------+\n",
            "|    2nd|             15.5|\n",
            "|    1st|6.666666666666667|\n",
            "+-------+-----------------+\n",
            "\n"
          ]
        }
      ],
      "source": [
        "regiments.groupBy('company').avg('preTestScore').show()"
      ]
    },
    {
      "cell_type": "markdown",
      "metadata": {
        "id": "SQl14ofH1FDg"
      },
      "source": [
        "### Step 7. Present the mean preTestScores grouped by regiment and company"
      ]
    },
    {
      "cell_type": "code",
      "execution_count": 39,
      "metadata": {
        "id": "V_EcLa5J1FDg",
        "outputId": "42b5dba8-2091-4ac1-8152-d67fb074201c",
        "colab": {
          "base_uri": "https://localhost:8080/"
        }
      },
      "outputs": [
        {
          "output_type": "stream",
          "name": "stdout",
          "text": [
            "+----------+----+----+\n",
            "|  regiment| 1st| 2nd|\n",
            "+----------+----+----+\n",
            "|Nighthawks|14.0|16.5|\n",
            "|  Dragoons| 3.5|27.5|\n",
            "|    Scouts| 2.5| 2.5|\n",
            "+----------+----+----+\n",
            "\n"
          ]
        }
      ],
      "source": [
        "means = regiments.groupBy('regiment','company').avg('preTestScore')\n"
      ]
    },
    {
      "cell_type": "markdown",
      "metadata": {
        "id": "A-9t3aIO1FDh"
      },
      "source": [
        "### Step 8. Present the mean preTestScores grouped by regiment and company without heirarchical indexing"
      ]
    },
    {
      "cell_type": "code",
      "execution_count": 40,
      "metadata": {
        "id": "0TMKBFuh1FDh",
        "outputId": "f131029b-5fae-4099-9164-063d98baf399",
        "colab": {
          "base_uri": "https://localhost:8080/"
        }
      },
      "outputs": [
        {
          "output_type": "stream",
          "name": "stdout",
          "text": [
            "+----------+----+----+\n",
            "|  regiment| 1st| 2nd|\n",
            "+----------+----+----+\n",
            "|Nighthawks|14.0|16.5|\n",
            "|  Dragoons| 3.5|27.5|\n",
            "|    Scouts| 2.5| 2.5|\n",
            "+----------+----+----+\n",
            "\n"
          ]
        }
      ],
      "source": [
        "means.groupBy('regiment').pivot('company').avg().show()"
      ]
    },
    {
      "cell_type": "markdown",
      "metadata": {
        "id": "Ecf4BlxG1FDh"
      },
      "source": [
        "### Step 9. Group the entire dataframe by regiment and company"
      ]
    },
    {
      "cell_type": "code",
      "execution_count": 30,
      "metadata": {
        "id": "kITm4nyx1FDh"
      },
      "outputs": [],
      "source": [
        "grouped = regiments.groupBy('regiment','company')"
      ]
    },
    {
      "cell_type": "markdown",
      "metadata": {
        "id": "MSXzAU9z1FDi"
      },
      "source": [
        "### Step 10. What is the number of observations in each regiment and company"
      ]
    },
    {
      "cell_type": "code",
      "execution_count": 31,
      "metadata": {
        "id": "MBnICEPn1FDi",
        "outputId": "180a6450-c48b-4eff-b0c9-74af342ae3e9",
        "colab": {
          "base_uri": "https://localhost:8080/"
        }
      },
      "outputs": [
        {
          "output_type": "stream",
          "name": "stdout",
          "text": [
            "+----------+-------+-----+\n",
            "|  regiment|company|count|\n",
            "+----------+-------+-----+\n",
            "|Nighthawks|    1st|    2|\n",
            "|  Dragoons|    1st|    2|\n",
            "|Nighthawks|    2nd|    2|\n",
            "|  Dragoons|    2nd|    2|\n",
            "|    Scouts|    2nd|    2|\n",
            "|    Scouts|    1st|    2|\n",
            "+----------+-------+-----+\n",
            "\n"
          ]
        }
      ],
      "source": [
        "grouped.count().show()"
      ]
    },
    {
      "cell_type": "markdown",
      "metadata": {
        "id": "Q0W6fTEX1FDi"
      },
      "source": [
        "### Step 11. Iterate over a group and print the name and the whole data from the regiment"
      ]
    },
    {
      "cell_type": "code",
      "execution_count": 83,
      "metadata": {
        "id": "TBWngwO01FDi",
        "outputId": "1a4ccf16-af6a-43e6-bb6d-da2e8c51ca0e",
        "colab": {
          "base_uri": "https://localhost:8080/"
        }
      },
      "outputs": [
        {
          "output_type": "stream",
          "name": "stdout",
          "text": [
            "+----------+-------+--------+------------+-------------+\n",
            "|  regiment|company|    name|preTestScore|postTestScore|\n",
            "+----------+-------+--------+------------+-------------+\n",
            "|Nighthawks|    1st|  Miller|           4|           25|\n",
            "|Nighthawks|    1st|Jacobson|          24|           94|\n",
            "|Nighthawks|    2nd|     Ali|          31|           57|\n",
            "|Nighthawks|    2nd|  Milner|           2|           62|\n",
            "+----------+-------+--------+------------+-------------+\n",
            "\n",
            "None\n",
            "+--------+-------+------+------------+-------------+\n",
            "|regiment|company|  name|preTestScore|postTestScore|\n",
            "+--------+-------+------+------------+-------------+\n",
            "|Dragoons|    1st| Cooze|           3|           70|\n",
            "|Dragoons|    1st| Jacon|           4|           25|\n",
            "|Dragoons|    2nd|Ryaner|          24|           94|\n",
            "|Dragoons|    2nd|  Sone|          31|           57|\n",
            "+--------+-------+------+------------+-------------+\n",
            "\n",
            "None\n",
            "+--------+-------+-----+------------+-------------+\n",
            "|regiment|company| name|preTestScore|postTestScore|\n",
            "+--------+-------+-----+------------+-------------+\n",
            "|  Scouts|    1st|Sloan|           2|           62|\n",
            "|  Scouts|    1st|Piger|           3|           70|\n",
            "|  Scouts|    2nd|Riani|           2|           62|\n",
            "|  Scouts|    2nd|  Ali|           3|           70|\n",
            "+--------+-------+-----+------------+-------------+\n",
            "\n",
            "None\n"
          ]
        }
      ],
      "source": [
        "groups = regiments.groupBy('regiment').count().select('regiment').collect()\n",
        "\n",
        "for row in groups:\n",
        "  print(regiments.filter(regiments.regiment == row['regiment']).show())"
      ]
    },
    {
      "cell_type": "code",
      "source": [],
      "metadata": {
        "id": "7ljY8wergkn4"
      },
      "execution_count": null,
      "outputs": []
    }
  ],
  "metadata": {
    "kernelspec": {
      "display_name": "Python 2",
      "language": "python",
      "name": "python2"
    },
    "language_info": {
      "codemirror_mode": {
        "name": "ipython",
        "version": 2
      },
      "file_extension": ".py",
      "mimetype": "text/x-python",
      "name": "python",
      "nbconvert_exporter": "python",
      "pygments_lexer": "ipython2",
      "version": "2.7.11"
    },
    "colab": {
      "provenance": []
    }
  },
  "nbformat": 4,
  "nbformat_minor": 0
}