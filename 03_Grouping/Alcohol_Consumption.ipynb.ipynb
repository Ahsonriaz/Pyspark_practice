{
  "cells": [
    {
      "cell_type": "markdown",
      "metadata": {
        "id": "Y2N3mIlyqSKO"
      },
      "source": [
        "# Ex - GroupBy"
      ]
    },
    {
      "cell_type": "markdown",
      "metadata": {
        "id": "jRU0vJaPqSKS"
      },
      "source": [
        "### Introduction:\n",
        "\n",
        "GroupBy can be summarized as Split-Apply-Combine.\n",
        "\n",
        "Special thanks to: https://github.com/justmarkham for sharing the dataset and materials.\n",
        "\n",
        "Check out this [Diagram](http://i.imgur.com/yjNkiwL.png)  \n",
        "### Step 1. Import the necessary libraries"
      ]
    },
    {
      "cell_type": "code",
      "execution_count": 1,
      "metadata": {
        "colab": {
          "base_uri": "https://localhost:8080/",
          "height": 742
        },
        "id": "hhw7jdLVqSKU",
        "outputId": "218f2231-ffb6-4042-aac2-dc9860b0ed02"
      },
      "outputs": [
        {
          "output_type": "stream",
          "name": "stdout",
          "text": [
            "\u001b[33m\r0% [Working]\u001b[0m\r            \rGet:1 https://cloud.r-project.org/bin/linux/ubuntu jammy-cran40/ InRelease [3,632 B]\n",
            "Get:2 https://developer.download.nvidia.com/compute/cuda/repos/ubuntu2204/x86_64  InRelease [1,581 B]\n",
            "Get:3 https://developer.download.nvidia.com/compute/cuda/repos/ubuntu2204/x86_64  Packages [1,317 kB]\n",
            "Get:4 http://security.ubuntu.com/ubuntu jammy-security InRelease [129 kB]\n",
            "Hit:5 http://archive.ubuntu.com/ubuntu jammy InRelease\n",
            "Get:6 http://archive.ubuntu.com/ubuntu jammy-updates InRelease [128 kB]\n",
            "Get:7 https://r2u.stat.illinois.edu/ubuntu jammy InRelease [6,555 B]\n",
            "Hit:8 https://ppa.launchpadcontent.net/deadsnakes/ppa/ubuntu jammy InRelease\n",
            "Hit:9 https://ppa.launchpadcontent.net/graphics-drivers/ppa/ubuntu jammy InRelease\n",
            "Get:10 https://r2u.stat.illinois.edu/ubuntu jammy/main all Packages [8,687 kB]\n",
            "Hit:11 https://ppa.launchpadcontent.net/ubuntugis/ppa/ubuntu jammy InRelease\n",
            "Get:12 http://security.ubuntu.com/ubuntu jammy-security/universe amd64 Packages [1,230 kB]\n",
            "Get:13 http://archive.ubuntu.com/ubuntu jammy-backports InRelease [127 kB]\n",
            "Get:14 http://archive.ubuntu.com/ubuntu jammy-updates/universe amd64 Packages [1,526 kB]\n",
            "Get:15 http://security.ubuntu.com/ubuntu jammy-security/main amd64 Packages [2,610 kB]\n",
            "Get:16 http://archive.ubuntu.com/ubuntu jammy-updates/main amd64 Packages [2,939 kB]\n",
            "Get:17 http://archive.ubuntu.com/ubuntu jammy-updates/restricted amd64 Packages [3,793 kB]\n",
            "Get:18 https://r2u.stat.illinois.edu/ubuntu jammy/main amd64 Packages [2,660 kB]\n",
            "Fetched 25.2 MB in 5s (5,272 kB/s)\n",
            "Reading package lists... Done\n",
            "Building dependency tree... Done\n",
            "Reading state information... Done\n",
            "26 packages can be upgraded. Run 'apt list --upgradable' to see them.\n",
            "\u001b[1;33mW: \u001b[0mSkipping acquire of configured file 'main/source/Sources' as repository 'https://r2u.stat.illinois.edu/ubuntu jammy InRelease' does not seem to provide it (sources.list entry misspelt?)\u001b[0m\n",
            "tar: spark-3.2.1-bin-hadoop3.2.tgz: Cannot open: No such file or directory\n",
            "tar: Error is not recoverable: exiting now\n",
            "Requirement already satisfied: pyspark in /usr/local/lib/python3.11/dist-packages (3.5.4)\n",
            "Requirement already satisfied: py4j==0.10.9.7 in /usr/local/lib/python3.11/dist-packages (from pyspark) (0.10.9.7)\n",
            "Requirement already satisfied: py4j in /usr/local/lib/python3.11/dist-packages (0.10.9.7)\n"
          ]
        },
        {
          "output_type": "execute_result",
          "data": {
            "text/plain": [
              "<pyspark.sql.session.SparkSession at 0x7e2e38a7de10>"
            ],
            "text/html": [
              "\n",
              "            <div>\n",
              "                <p><b>SparkSession - in-memory</b></p>\n",
              "                \n",
              "        <div>\n",
              "            <p><b>SparkContext</b></p>\n",
              "\n",
              "            <p><a href=\"http://16ed6ca5997f:4040\">Spark UI</a></p>\n",
              "\n",
              "            <dl>\n",
              "              <dt>Version</dt>\n",
              "                <dd><code>v3.5.4</code></dd>\n",
              "              <dt>Master</dt>\n",
              "                <dd><code>local[*]</code></dd>\n",
              "              <dt>AppName</dt>\n",
              "                <dd><code>Our First Spark Example</code></dd>\n",
              "            </dl>\n",
              "        </div>\n",
              "        \n",
              "            </div>\n",
              "        "
            ]
          },
          "metadata": {},
          "execution_count": 1
        }
      ],
      "source": [
        "!sudo apt update\n",
        "!apt-get install openjdk-8-jdk-headless -qq > /dev/null\n",
        "#Check this site for the latest download link https://www.apache.org/dyn/closer.lua/spark/spark-3.2.1/spark-3.2.1-bin-hadoop3.2.tgz\n",
        "!wget -q https://dlcdn.apache.org/spark/spark-3.2.1/spark-3.2.1-bin-hadoop3.2.tgz\n",
        "!tar xf spark-3.2.1-bin-hadoop3.2.tgz\n",
        "!pip install -q findspark\n",
        "!pip install pyspark\n",
        "!pip install py4j\n",
        "\n",
        "import os\n",
        "import sys\n",
        "# os.environ[\"JAVA_HOME\"] = \"/usr/lib/jvm/java-8-openjdk-amd64\"\n",
        "# os.environ[\"SPARK_HOME\"] = \"/content/spark-3.2.1-bin-hadoop3.2\"\n",
        "\n",
        "\n",
        "import findspark\n",
        "findspark.init()\n",
        "findspark.find()\n",
        "\n",
        "import pyspark\n",
        "\n",
        "from pyspark.sql import DataFrame, SparkSession\n",
        "from typing import List\n",
        "import pyspark.sql.types as T\n",
        "import pyspark.sql.functions as F\n",
        "\n",
        "spark= SparkSession \\\n",
        "       .builder \\\n",
        "       .appName(\"Our First Spark Example\") \\\n",
        "       .getOrCreate()\n",
        "\n",
        "spark"
      ]
    },
    {
      "cell_type": "markdown",
      "metadata": {
        "id": "kfbxU0jbqSKV"
      },
      "source": [
        "### Step 2. Import the dataset from this [address](https://raw.githubusercontent.com/justmarkham/DAT8/master/data/drinks.csv)."
      ]
    },
    {
      "cell_type": "markdown",
      "metadata": {
        "id": "plv0BG18qSKW"
      },
      "source": [
        "### Step 3. Assign it to a variable called drinks."
      ]
    },
    {
      "cell_type": "code",
      "execution_count": 2,
      "metadata": {
        "colab": {
          "base_uri": "https://localhost:8080/"
        },
        "id": "fYmDCxiFqSKX",
        "outputId": "5be2d72e-65d5-4a15-8a48-e1f0f0c23d64"
      },
      "outputs": [
        {
          "output_type": "stream",
          "name": "stdout",
          "text": [
            "+-----------+-------------+---------------+-------------+----------------------------+---------+\n",
            "|    country|beer_servings|spirit_servings|wine_servings|total_litres_of_pure_alcohol|continent|\n",
            "+-----------+-------------+---------------+-------------+----------------------------+---------+\n",
            "|Afghanistan|            0|              0|            0|                         0.0|       AS|\n",
            "|    Albania|           89|            132|           54|                         4.9|       EU|\n",
            "|    Algeria|           25|              0|           14|                         0.7|       AF|\n",
            "|    Andorra|          245|            138|          312|                        12.4|       EU|\n",
            "|     Angola|          217|             57|           45|                         5.9|       AF|\n",
            "+-----------+-------------+---------------+-------------+----------------------------+---------+\n",
            "only showing top 5 rows\n",
            "\n"
          ]
        }
      ],
      "source": [
        "import pandas as pd\n",
        "\n",
        "df = pd.read_csv('https://raw.githubusercontent.com/justmarkham/DAT8/master/data/drinks.csv', sep = ',')\n",
        "drinks = spark.createDataFrame(df)\n",
        "\n",
        "drinks.show(5)"
      ]
    },
    {
      "cell_type": "markdown",
      "metadata": {
        "id": "N4sretdbqSKX"
      },
      "source": [
        "### Step 4. Which continent drinks more beer on average?"
      ]
    },
    {
      "cell_type": "code",
      "execution_count": 5,
      "metadata": {
        "colab": {
          "base_uri": "https://localhost:8080/"
        },
        "id": "-2GkMD2jqSKY",
        "outputId": "91146c59-f563-44c0-b084-3b45da53d68f"
      },
      "outputs": [
        {
          "output_type": "stream",
          "name": "stdout",
          "text": [
            "+---------+------------------+\n",
            "|continent|avg(beer_servings)|\n",
            "+---------+------------------+\n",
            "|       AS| 37.04545454545455|\n",
            "|       AF|61.471698113207545|\n",
            "|       OC|           89.6875|\n",
            "|      NaN|145.43478260869566|\n",
            "|       SA|175.08333333333334|\n",
            "|       EU|193.77777777777777|\n",
            "+---------+------------------+\n",
            "\n"
          ]
        }
      ],
      "source": [
        "drinks.groupBy('continent').avg('beer_servings').orderBy('avg(beer_servings)').show()"
      ]
    },
    {
      "cell_type": "markdown",
      "metadata": {
        "id": "aRc3WweZqSKZ"
      },
      "source": [
        "### Step 5. For each continent print the statistics for wine consumption."
      ]
    },
    {
      "cell_type": "code",
      "execution_count": 10,
      "metadata": {
        "colab": {
          "base_uri": "https://localhost:8080/"
        },
        "id": "L8IoVEM0qSKa",
        "outputId": "e5987a85-a53e-4ed2-cd2d-af396605931d"
      },
      "outputs": [
        {
          "output_type": "stream",
          "name": "stdout",
          "text": [
            "+---------+------------------+------------------+------------------+------------------+---------------------+\n",
            "|continent|sum(wine_servings)|avg(wine_servings)|min(wine_servings)|max(wine_servings)|stddev(wine_servings)|\n",
            "+---------+------------------+------------------+------------------+------------------+---------------------+\n",
            "|       SA|               749|62.416666666666664|                 1|               221|    88.62018888937148|\n",
            "|      NaN|               564| 24.52173913043478|                 1|               100|   28.266378301658847|\n",
            "|       AS|               399| 9.068181818181818|                 0|               123|   21.667033931944488|\n",
            "|       OC|               570|            35.625|                 0|               212|    64.55578982554547|\n",
            "|       EU|              6400|142.22222222222223|                 0|               370|    97.42173756146494|\n",
            "|       AF|               862|16.264150943396228|                 0|               233|    38.84641897335842|\n",
            "+---------+------------------+------------------+------------------+------------------+---------------------+\n",
            "\n"
          ]
        }
      ],
      "source": [
        "from pyspark.sql.functions import sum, avg, min, max, stddev\n",
        "\n",
        "drinks.groupBy('continent').agg(sum('wine_servings'),avg('wine_servings'),min('wine_servings'),max('wine_servings'),stddev('wine_servings')).show()"
      ]
    },
    {
      "cell_type": "markdown",
      "metadata": {
        "id": "bOLEsc2KqSKa"
      },
      "source": [
        "### Step 6. Print the mean alcohol consumption per continent for every column"
      ]
    },
    {
      "cell_type": "code",
      "execution_count": 12,
      "metadata": {
        "colab": {
          "base_uri": "https://localhost:8080/"
        },
        "id": "RIOy2LL7qSKa",
        "outputId": "a1eeae42-e667-422d-b0f8-62d9f6735db9"
      },
      "outputs": [
        {
          "output_type": "stream",
          "name": "stdout",
          "text": [
            "+---------+------------------+--------------------+------------------+---------------------------------+\n",
            "|continent|avg(beer_servings)|avg(spirit_servings)|avg(wine_servings)|avg(total_litres_of_pure_alcohol)|\n",
            "+---------+------------------+--------------------+------------------+---------------------------------+\n",
            "|       SA|175.08333333333334|              114.75|62.416666666666664|                6.308333333333334|\n",
            "|      NaN|145.43478260869566|   165.7391304347826| 24.52173913043478|                5.995652173913045|\n",
            "|       AS| 37.04545454545455|   60.84090909090909| 9.068181818181818|               2.1704545454545454|\n",
            "|       OC|           89.6875|             58.4375|            35.625|               3.3812499999999996|\n",
            "|       EU|193.77777777777777|  132.55555555555554|142.22222222222223|                8.617777777777778|\n",
            "|       AF|61.471698113207545|  16.339622641509433|16.264150943396228|               3.0075471698113208|\n",
            "+---------+------------------+--------------------+------------------+---------------------------------+\n",
            "\n"
          ]
        }
      ],
      "source": [
        "drinks.groupBy('continent').avg().show()"
      ]
    },
    {
      "cell_type": "markdown",
      "metadata": {
        "id": "sNNlQxVHqSKb"
      },
      "source": [
        "### Step 7. Print the median alcohol consumption per continent for every column"
      ]
    },
    {
      "cell_type": "code",
      "execution_count": 34,
      "metadata": {
        "id": "v3bIQq40qSKf"
      },
      "outputs": [],
      "source": [
        "#still figuring out logic for SQL query"
      ]
    },
    {
      "cell_type": "markdown",
      "metadata": {
        "id": "QCrwUB56qSKf"
      },
      "source": [
        "### Step 8. Print the mean, min and max values for spirit consumption.\n",
        "#### This time output a DataFrame"
      ]
    },
    {
      "cell_type": "code",
      "execution_count": 32,
      "metadata": {
        "colab": {
          "base_uri": "https://localhost:8080/"
        },
        "id": "0jNAB2wJqSKg",
        "outputId": "712929e5-c705-4e6a-dce0-726e27e38a7a"
      },
      "outputs": [
        {
          "output_type": "stream",
          "name": "stdout",
          "text": [
            "+---------+--------------------+\n",
            "|continent|avg(spirit_servings)|\n",
            "+---------+--------------------+\n",
            "|       SA|              114.75|\n",
            "|      NaN|   165.7391304347826|\n",
            "|       AS|   60.84090909090909|\n",
            "|       OC|             58.4375|\n",
            "|       EU|  132.55555555555554|\n",
            "|       AF|  16.339622641509433|\n",
            "+---------+--------------------+\n",
            "\n",
            "+---------+--------------------+\n",
            "|continent|min(spirit_servings)|\n",
            "+---------+--------------------+\n",
            "|       SA|                  25|\n",
            "|      NaN|                  68|\n",
            "|       AS|                   0|\n",
            "|       OC|                   0|\n",
            "|       EU|                   0|\n",
            "|       AF|                   0|\n",
            "+---------+--------------------+\n",
            "\n",
            "+---------+--------------------+\n",
            "|continent|max(spirit_servings)|\n",
            "+---------+--------------------+\n",
            "|       SA|                 302|\n",
            "|      NaN|                 438|\n",
            "|       AS|                 326|\n",
            "|       OC|                 254|\n",
            "|       EU|                 373|\n",
            "|       AF|                 152|\n",
            "+---------+--------------------+\n",
            "\n"
          ]
        }
      ],
      "source": [
        "mean = drinks.groupBy('continent').avg('spirit_servings').show()\n",
        "min = drinks.groupBy('continent').min('spirit_servings').show()\n",
        "max = drinks.groupBy('continent').max('spirit_servings').show()"
      ]
    }
  ],
  "metadata": {
    "kernelspec": {
      "display_name": "Python 2",
      "language": "python",
      "name": "python2"
    },
    "language_info": {
      "codemirror_mode": {
        "name": "ipython",
        "version": 2
      },
      "file_extension": ".py",
      "mimetype": "text/x-python",
      "name": "python",
      "nbconvert_exporter": "python",
      "pygments_lexer": "ipython2",
      "version": "2.7.16"
    },
    "colab": {
      "provenance": []
    }
  },
  "nbformat": 4,
  "nbformat_minor": 0
}