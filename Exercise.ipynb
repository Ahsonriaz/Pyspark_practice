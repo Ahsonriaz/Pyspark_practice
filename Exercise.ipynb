{
  "cells": [
    {
      "cell_type": "markdown",
      "metadata": {
        "id": "kh3clNl9dhED"
      },
      "source": [
        "# Occupation"
      ]
    },
    {
      "cell_type": "markdown",
      "metadata": {
        "id": "bBjVWxvQdhEH"
      },
      "source": [
        "### Introduction:\n",
        "\n",
        "Special thanks to: https://github.com/justmarkham for sharing the dataset and materials.\n",
        "\n",
        "### Step 1. Import the necessary libraries"
      ]
    },
    {
      "cell_type": "code",
      "execution_count": 1,
      "metadata": {
        "colab": {
          "base_uri": "https://localhost:8080/",
          "height": 742
        },
        "id": "rkGTg0kldhEH",
        "outputId": "dae06dc8-992a-49c6-dcd9-5492cfcc6c2f"
      },
      "outputs": [
        {
          "output_type": "stream",
          "name": "stdout",
          "text": [
            "\u001b[33m\r0% [Working]\u001b[0m\r            \rGet:1 https://cloud.r-project.org/bin/linux/ubuntu jammy-cran40/ InRelease [3,632 B]\n",
            "Get:2 https://developer.download.nvidia.com/compute/cuda/repos/ubuntu2204/x86_64  InRelease [1,581 B]\n",
            "Get:3 http://security.ubuntu.com/ubuntu jammy-security InRelease [129 kB]\n",
            "Hit:4 http://archive.ubuntu.com/ubuntu jammy InRelease\n",
            "Get:5 https://r2u.stat.illinois.edu/ubuntu jammy InRelease [6,555 B]\n",
            "Get:6 http://archive.ubuntu.com/ubuntu jammy-updates InRelease [128 kB]\n",
            "Hit:7 https://ppa.launchpadcontent.net/deadsnakes/ppa/ubuntu jammy InRelease\n",
            "Hit:8 https://ppa.launchpadcontent.net/graphics-drivers/ppa/ubuntu jammy InRelease\n",
            "Get:9 http://archive.ubuntu.com/ubuntu jammy-backports InRelease [127 kB]\n",
            "Hit:10 https://ppa.launchpadcontent.net/ubuntugis/ppa/ubuntu jammy InRelease\n",
            "Get:11 https://developer.download.nvidia.com/compute/cuda/repos/ubuntu2204/x86_64  Packages [1,317 kB]\n",
            "Get:12 https://r2u.stat.illinois.edu/ubuntu jammy/main all Packages [8,687 kB]\n",
            "Get:13 http://security.ubuntu.com/ubuntu jammy-security/main amd64 Packages [2,610 kB]\n",
            "Get:14 https://r2u.stat.illinois.edu/ubuntu jammy/main amd64 Packages [2,660 kB]\n",
            "Get:15 http://security.ubuntu.com/ubuntu jammy-security/universe amd64 Packages [1,230 kB]\n",
            "Get:16 http://archive.ubuntu.com/ubuntu jammy-updates/main amd64 Packages [2,939 kB]\n",
            "Get:17 http://archive.ubuntu.com/ubuntu jammy-updates/restricted amd64 Packages [3,793 kB]\n",
            "Get:18 http://archive.ubuntu.com/ubuntu jammy-updates/universe amd64 Packages [1,526 kB]\n",
            "Fetched 25.2 MB in 6s (4,367 kB/s)\n",
            "Reading package lists... Done\n",
            "Building dependency tree... Done\n",
            "Reading state information... Done\n",
            "26 packages can be upgraded. Run 'apt list --upgradable' to see them.\n",
            "\u001b[1;33mW: \u001b[0mSkipping acquire of configured file 'main/source/Sources' as repository 'https://r2u.stat.illinois.edu/ubuntu jammy InRelease' does not seem to provide it (sources.list entry misspelt?)\u001b[0m\n",
            "tar: spark-3.2.1-bin-hadoop3.2.tgz: Cannot open: No such file or directory\n",
            "tar: Error is not recoverable: exiting now\n",
            "Requirement already satisfied: pyspark in /usr/local/lib/python3.11/dist-packages (3.5.4)\n",
            "Requirement already satisfied: py4j==0.10.9.7 in /usr/local/lib/python3.11/dist-packages (from pyspark) (0.10.9.7)\n",
            "Requirement already satisfied: py4j in /usr/local/lib/python3.11/dist-packages (0.10.9.7)\n"
          ]
        },
        {
          "output_type": "execute_result",
          "data": {
            "text/plain": [
              "<pyspark.sql.session.SparkSession at 0x7e9a1020c390>"
            ],
            "text/html": [
              "\n",
              "            <div>\n",
              "                <p><b>SparkSession - in-memory</b></p>\n",
              "                \n",
              "        <div>\n",
              "            <p><b>SparkContext</b></p>\n",
              "\n",
              "            <p><a href=\"http://66fcb6b76e01:4040\">Spark UI</a></p>\n",
              "\n",
              "            <dl>\n",
              "              <dt>Version</dt>\n",
              "                <dd><code>v3.5.4</code></dd>\n",
              "              <dt>Master</dt>\n",
              "                <dd><code>local[*]</code></dd>\n",
              "              <dt>AppName</dt>\n",
              "                <dd><code>Our First Spark Example</code></dd>\n",
              "            </dl>\n",
              "        </div>\n",
              "        \n",
              "            </div>\n",
              "        "
            ]
          },
          "metadata": {},
          "execution_count": 1
        }
      ],
      "source": [
        "!sudo apt update\n",
        "!apt-get install openjdk-8-jdk-headless -qq > /dev/null\n",
        "#Check this site for the latest download link https://www.apache.org/dyn/closer.lua/spark/spark-3.2.1/spark-3.2.1-bin-hadoop3.2.tgz\n",
        "!wget -q https://dlcdn.apache.org/spark/spark-3.2.1/spark-3.2.1-bin-hadoop3.2.tgz\n",
        "!tar xf spark-3.2.1-bin-hadoop3.2.tgz\n",
        "!pip install -q findspark\n",
        "!pip install pyspark\n",
        "!pip install py4j\n",
        "\n",
        "import os\n",
        "import sys\n",
        "# os.environ[\"JAVA_HOME\"] = \"/usr/lib/jvm/java-8-openjdk-amd64\"\n",
        "# os.environ[\"SPARK_HOME\"] = \"/content/spark-3.2.1-bin-hadoop3.2\"\n",
        "\n",
        "\n",
        "import findspark\n",
        "findspark.init()\n",
        "findspark.find()\n",
        "\n",
        "import pyspark\n",
        "\n",
        "from pyspark.sql import DataFrame, SparkSession\n",
        "from typing import List\n",
        "import pyspark.sql.types as T\n",
        "import pyspark.sql.functions as F\n",
        "\n",
        "spark= SparkSession \\\n",
        "       .builder \\\n",
        "       .appName(\"Our First Spark Example\") \\\n",
        "       .getOrCreate()\n",
        "\n",
        "spark"
      ]
    },
    {
      "cell_type": "markdown",
      "metadata": {
        "id": "VhnbtbaBdhEI"
      },
      "source": [
        "### Step 2. Import the dataset from this [address](https://raw.githubusercontent.com/justmarkham/DAT8/master/data/u.user)."
      ]
    },
    {
      "cell_type": "markdown",
      "metadata": {
        "id": "YckIajaCdhEI"
      },
      "source": [
        "### Step 3. Assign it to a variable called users."
      ]
    },
    {
      "cell_type": "code",
      "execution_count": 4,
      "metadata": {
        "id": "F_7suf0IdhEJ"
      },
      "outputs": [],
      "source": [
        "import pandas as pd\n",
        "\n",
        "df = pd.read_csv('https://raw.githubusercontent.com/justmarkham/DAT8/master/data/u.user', sep = '|')\n",
        "\n",
        "users = spark.createDataFrame(df)"
      ]
    },
    {
      "cell_type": "code",
      "source": [
        "users.show(5)"
      ],
      "metadata": {
        "colab": {
          "base_uri": "https://localhost:8080/"
        },
        "id": "Swslp1Lfeow4",
        "outputId": "09ddaa34-4d96-4eb8-aae3-2909d1caf501"
      },
      "execution_count": 5,
      "outputs": [
        {
          "output_type": "stream",
          "name": "stdout",
          "text": [
            "+-------+---+------+----------+--------+\n",
            "|user_id|age|gender|occupation|zip_code|\n",
            "+-------+---+------+----------+--------+\n",
            "|      1| 24|     M|technician|   85711|\n",
            "|      2| 53|     F|     other|   94043|\n",
            "|      3| 23|     M|    writer|   32067|\n",
            "|      4| 24|     M|technician|   43537|\n",
            "|      5| 33|     F|     other|   15213|\n",
            "+-------+---+------+----------+--------+\n",
            "only showing top 5 rows\n",
            "\n"
          ]
        }
      ]
    },
    {
      "cell_type": "markdown",
      "metadata": {
        "id": "zE7nwzmddhEJ"
      },
      "source": [
        "### Step 4. Discover what is the mean age per occupation"
      ]
    },
    {
      "cell_type": "code",
      "execution_count": 10,
      "metadata": {
        "colab": {
          "base_uri": "https://localhost:8080/"
        },
        "id": "HTBWxoPqdhEJ",
        "outputId": "1a70eabe-d2f1-4c2f-e25d-881d13f99f67"
      },
      "outputs": [
        {
          "output_type": "stream",
          "name": "stdout",
          "text": [
            "+-------------+-----------+\n",
            "|   occupation|average_age|\n",
            "+-------------+-----------+\n",
            "|    librarian|       40.0|\n",
            "|      retired|       63.0|\n",
            "|       lawyer|       37.0|\n",
            "|         none|       27.0|\n",
            "|       writer|       36.0|\n",
            "|   programmer|       33.0|\n",
            "|    marketing|       38.0|\n",
            "|        other|       35.0|\n",
            "|    executive|       39.0|\n",
            "|    scientist|       36.0|\n",
            "|      student|       22.0|\n",
            "|     salesman|       36.0|\n",
            "|       artist|       31.0|\n",
            "|   technician|       33.0|\n",
            "|administrator|       39.0|\n",
            "|     engineer|       36.0|\n",
            "|   healthcare|       42.0|\n",
            "|     educator|       42.0|\n",
            "|entertainment|       29.0|\n",
            "|    homemaker|       33.0|\n",
            "+-------------+-----------+\n",
            "only showing top 20 rows\n",
            "\n"
          ]
        }
      ],
      "source": [
        "from pyspark.sql.functions import round\n",
        "users.groupBy('occupation').avg('age').withColumn('average_age', round('avg(age)',0)).select('occupation','average_age').show()"
      ]
    },
    {
      "cell_type": "markdown",
      "metadata": {
        "id": "rWHxcPfHdhEK"
      },
      "source": [
        "### Step 5. Discover the Male ratio per occupation and sort it from the most to the least"
      ]
    },
    {
      "cell_type": "code",
      "source": [
        "denom = users.groupBy('occupation').count().withColumnRenamed('count', 'total_occupation')\n",
        "num = users.filter(users.gender == 'M').groupBy('occupation').count().withColumnRenamed('count', 'male_occupation')\n",
        "\n",
        "male_ratio = denom.join(num, on = 'occupation', how = 'inner')\n",
        "\n",
        "male_ratio.withColumn('ratio', (male_ratio.male_occupation)/(male_ratio.total_occupation)).orderBy('ratio', ascending = False).show(n = male_ratio.count())"
      ],
      "metadata": {
        "colab": {
          "base_uri": "https://localhost:8080/"
        },
        "id": "1_umiaJkfmyg",
        "outputId": "5a3c0ee2-8ab2-442b-cdf0-94a4e204426a"
      },
      "execution_count": 29,
      "outputs": [
        {
          "output_type": "stream",
          "name": "stdout",
          "text": [
            "+-------------+----------------+---------------+-------------------+\n",
            "|   occupation|total_occupation|male_occupation|              ratio|\n",
            "+-------------+----------------+---------------+-------------------+\n",
            "|       doctor|               7|              7|                1.0|\n",
            "|     engineer|              67|             65| 0.9701492537313433|\n",
            "|   technician|              27|             26| 0.9629629629629629|\n",
            "|      retired|              14|             13| 0.9285714285714286|\n",
            "|   programmer|              66|             60| 0.9090909090909091|\n",
            "|    executive|              32|             29|            0.90625|\n",
            "|    scientist|              31|             28| 0.9032258064516129|\n",
            "|entertainment|              18|             16| 0.8888888888888888|\n",
            "|       lawyer|              12|             10| 0.8333333333333334|\n",
            "|     salesman|              12|              9|               0.75|\n",
            "|     educator|              95|             69| 0.7263157894736842|\n",
            "|      student|             196|            136| 0.6938775510204082|\n",
            "|        other|             105|             69| 0.6571428571428571|\n",
            "|    marketing|              26|             16| 0.6153846153846154|\n",
            "|       writer|              45|             26| 0.5777777777777777|\n",
            "|         none|               9|              5| 0.5555555555555556|\n",
            "|administrator|              79|             43| 0.5443037974683544|\n",
            "|       artist|              28|             15| 0.5357142857142857|\n",
            "|    librarian|              51|             22|0.43137254901960786|\n",
            "|   healthcare|              16|              5|             0.3125|\n",
            "|    homemaker|               7|              1|0.14285714285714285|\n",
            "+-------------+----------------+---------------+-------------------+\n",
            "\n"
          ]
        }
      ]
    },
    {
      "cell_type": "code",
      "execution_count": 10,
      "metadata": {
        "id": "X32AMMWWdhEK"
      },
      "outputs": [],
      "source": []
    },
    {
      "cell_type": "markdown",
      "metadata": {
        "id": "JLa3Zni_dhEK"
      },
      "source": [
        "### Step 6. For each occupation, calculate the minimum and maximum ages"
      ]
    },
    {
      "cell_type": "code",
      "execution_count": 30,
      "metadata": {
        "colab": {
          "base_uri": "https://localhost:8080/"
        },
        "id": "u4UKDXCWdhEK",
        "outputId": "1a75ab2d-e1dd-4286-e545-4b7b360df51e"
      },
      "outputs": [
        {
          "output_type": "stream",
          "name": "stdout",
          "text": [
            "+-------------+--------+--------+\n",
            "|   occupation|max(age)|min(age)|\n",
            "+-------------+--------+--------+\n",
            "|    librarian|      69|      23|\n",
            "|      retired|      73|      51|\n",
            "|       lawyer|      53|      21|\n",
            "|         none|      55|      11|\n",
            "|       writer|      60|      18|\n",
            "|   programmer|      63|      20|\n",
            "|    marketing|      55|      24|\n",
            "|        other|      64|      13|\n",
            "|    executive|      69|      22|\n",
            "|    scientist|      55|      23|\n",
            "|      student|      42|       7|\n",
            "|     salesman|      66|      18|\n",
            "|       artist|      48|      19|\n",
            "|   technician|      55|      21|\n",
            "|administrator|      70|      21|\n",
            "|     engineer|      70|      22|\n",
            "|   healthcare|      62|      22|\n",
            "|     educator|      63|      23|\n",
            "|entertainment|      50|      15|\n",
            "|    homemaker|      50|      20|\n",
            "+-------------+--------+--------+\n",
            "only showing top 20 rows\n",
            "\n"
          ]
        }
      ],
      "source": [
        "max_age = users.groupBy('occupation').max('age')\n",
        "min_age = users.groupBy('occupation').min('age')\n",
        "\n",
        "max_age.join(min_age, 'occupation','inner').show()\n"
      ]
    },
    {
      "cell_type": "markdown",
      "metadata": {
        "id": "iRNR54Y7dhEK"
      },
      "source": [
        "### Step 7. For each combination of occupation and gender, calculate the mean age"
      ]
    },
    {
      "cell_type": "code",
      "execution_count": 34,
      "metadata": {
        "colab": {
          "base_uri": "https://localhost:8080/"
        },
        "id": "6I7lXm_7dhEK",
        "outputId": "5fbef15a-2ea2-489d-f2b0-949667b74258"
      },
      "outputs": [
        {
          "output_type": "stream",
          "name": "stdout",
          "text": [
            "+-------------+------+------------------+\n",
            "|   occupation|gender|          avg(age)|\n",
            "+-------------+------+------------------+\n",
            "|administrator|     F|40.638888888888886|\n",
            "|administrator|     M| 37.16279069767442|\n",
            "|       artist|     F|30.307692307692307|\n",
            "|       artist|     M|32.333333333333336|\n",
            "|       doctor|     M| 43.57142857142857|\n",
            "|     educator|     F| 39.11538461538461|\n",
            "|     educator|     M| 43.10144927536232|\n",
            "|     engineer|     F|              29.5|\n",
            "|     engineer|     M|              36.6|\n",
            "|entertainment|     F|              31.0|\n",
            "|entertainment|     M|              29.0|\n",
            "|    executive|     F|              44.0|\n",
            "|    executive|     M|38.172413793103445|\n",
            "|   healthcare|     F| 39.81818181818182|\n",
            "|   healthcare|     M|              45.4|\n",
            "|    homemaker|     F|34.166666666666664|\n",
            "|    homemaker|     M|              23.0|\n",
            "|       lawyer|     F|              39.5|\n",
            "|       lawyer|     M|              36.2|\n",
            "|    librarian|     F|              40.0|\n",
            "+-------------+------+------------------+\n",
            "only showing top 20 rows\n",
            "\n"
          ]
        }
      ],
      "source": [
        "users.groupBy('occupation','gender').avg('age').orderBy(['occupation','gender']).show()"
      ]
    },
    {
      "cell_type": "markdown",
      "metadata": {
        "id": "VAjtaIS9dhEK"
      },
      "source": [
        "### Step 8.  For each occupation present the percentage of women and men"
      ]
    },
    {
      "cell_type": "code",
      "execution_count": 35,
      "metadata": {
        "id": "cs8yaiyqdhEL"
      },
      "outputs": [],
      "source": [
        "total_occ = users.groupBy('occupation').count().withColumnRenamed('count','total_occupation')\n",
        "men_occ = users.filter(users.gender == \"M\").groupby('occupation').count().withColumnRenamed('count','men_occ')\n",
        "women_occ = users.filter(users.gender == \"F\").groupby('occupation').count().withColumnRenamed('count','women_occ')"
      ]
    },
    {
      "cell_type": "code",
      "source": [
        "total_joined = total_occ.join(men_occ,'occupation','left').join(women_occ,'occupation','left')"
      ],
      "metadata": {
        "id": "KUS7zDYQnCAw"
      },
      "execution_count": 36,
      "outputs": []
    },
    {
      "cell_type": "code",
      "source": [
        "total_joined.withColumns({'men_perc': (total_joined.men_occ/total_joined.total_occupation)*100,'women_perc':(total_joined.women_occ/total_joined.total_occupation)*100}).orderBy('occupation').show()"
      ],
      "metadata": {
        "colab": {
          "base_uri": "https://localhost:8080/"
        },
        "id": "y0Ajs6hrnsZ9",
        "outputId": "694f5488-9642-4d43-81a0-b253d7edd7e8"
      },
      "execution_count": 40,
      "outputs": [
        {
          "output_type": "stream",
          "name": "stdout",
          "text": [
            "+-------------+----------------+-------+---------+------------------+------------------+\n",
            "|   occupation|total_occupation|men_occ|women_occ|          men_perc|        women_perc|\n",
            "+-------------+----------------+-------+---------+------------------+------------------+\n",
            "|administrator|              79|     43|       36| 54.43037974683544| 45.56962025316456|\n",
            "|       artist|              28|     15|       13| 53.57142857142857| 46.42857142857143|\n",
            "|       doctor|               7|      7|     NULL|             100.0|              NULL|\n",
            "|     educator|              95|     69|       26| 72.63157894736842|27.368421052631582|\n",
            "|     engineer|              67|     65|        2| 97.01492537313433|2.9850746268656714|\n",
            "|entertainment|              18|     16|        2| 88.88888888888889| 11.11111111111111|\n",
            "|    executive|              32|     29|        3|            90.625|             9.375|\n",
            "|   healthcare|              16|      5|       11|             31.25|             68.75|\n",
            "|    homemaker|               7|      1|        6|14.285714285714285| 85.71428571428571|\n",
            "|       lawyer|              12|     10|        2| 83.33333333333334|16.666666666666664|\n",
            "|    librarian|              51|     22|       29| 43.13725490196079| 56.86274509803921|\n",
            "|    marketing|              26|     16|       10| 61.53846153846154| 38.46153846153847|\n",
            "|         none|               9|      5|        4| 55.55555555555556| 44.44444444444444|\n",
            "|        other|             105|     69|       36| 65.71428571428571|34.285714285714285|\n",
            "|   programmer|              66|     60|        6|  90.9090909090909| 9.090909090909092|\n",
            "|      retired|              14|     13|        1| 92.85714285714286| 7.142857142857142|\n",
            "|     salesman|              12|      9|        3|              75.0|              25.0|\n",
            "|    scientist|              31|     28|        3| 90.32258064516128|  9.67741935483871|\n",
            "|      student|             196|    136|       60| 69.38775510204081|30.612244897959183|\n",
            "|   technician|              27|     26|        1| 96.29629629629629|3.7037037037037033|\n",
            "+-------------+----------------+-------+---------+------------------+------------------+\n",
            "only showing top 20 rows\n",
            "\n"
          ]
        }
      ]
    },
    {
      "cell_type": "code",
      "source": [],
      "metadata": {
        "id": "wQ39HB7kntzQ"
      },
      "execution_count": null,
      "outputs": []
    }
  ],
  "metadata": {
    "kernelspec": {
      "display_name": "Python 2",
      "language": "python",
      "name": "python2"
    },
    "language_info": {
      "codemirror_mode": {
        "name": "ipython",
        "version": 2
      },
      "file_extension": ".py",
      "mimetype": "text/x-python",
      "name": "python",
      "nbconvert_exporter": "python",
      "pygments_lexer": "ipython2",
      "version": "2.7.11"
    },
    "colab": {
      "provenance": []
    }
  },
  "nbformat": 4,
  "nbformat_minor": 0
}